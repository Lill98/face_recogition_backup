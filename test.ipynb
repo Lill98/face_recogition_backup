{
 "cells": [
  {
   "cell_type": "code",
   "execution_count": 1,
   "metadata": {},
   "outputs": [],
   "source": [
    "import shutil\n"
   ]
  },
  {
   "cell_type": "code",
   "execution_count": 2,
   "metadata": {},
   "outputs": [
    {
     "data": {
      "text/plain": [
       "'/mnt/28857F714F734EE8/quan_tran/distortion/Document-Dewarping-with-Control-Points/face_recognition/test.zip'"
      ]
     },
     "execution_count": 2,
     "metadata": {},
     "output_type": "execute_result"
    }
   ],
   "source": [
    "shutil.make_archive('test', format='zip', root_dir='volumes')\n"
   ]
  },
  {
   "cell_type": "code",
   "execution_count": 10,
   "metadata": {},
   "outputs": [],
   "source": [
    "shutil.unpack_archive('test/test.zip', 'test/volumes')"
   ]
  },
  {
   "cell_type": "code",
   "execution_count": 13,
   "metadata": {},
   "outputs": [],
   "source": [
    "shutil.unpack_archive(\"backup/01_11_2023_16_20_26_backup.zip\", \"volumes\")"
   ]
  },
  {
   "cell_type": "code",
   "execution_count": 1,
   "metadata": {},
   "outputs": [],
   "source": [
    "import os"
   ]
  },
  {
   "cell_type": "code",
   "execution_count": 2,
   "metadata": {},
   "outputs": [
    {
     "ename": "OSError",
     "evalue": "[Errno 39] Directory not empty: '/mnt/28857F714F734EE8/quan_tran/distortion/Document-Dewarping-with-Control-Points/face_recognition/volumes'",
     "output_type": "error",
     "traceback": [
      "\u001b[0;31m---------------------------------------------------------------------------\u001b[0m",
      "\u001b[0;31mOSError\u001b[0m                                   Traceback (most recent call last)",
      "\u001b[1;32m/mnt/28857F714F734EE8/quan_tran/distortion/Document-Dewarping-with-Control-Points/face_recognition/test.ipynb Cell 5\u001b[0m in \u001b[0;36m<cell line: 1>\u001b[0;34m()\u001b[0m\n\u001b[0;32m----> <a href='vscode-notebook-cell://ssh-remote%2B192.168.192.243/mnt/28857F714F734EE8/quan_tran/distortion/Document-Dewarping-with-Control-Points/face_recognition/test.ipynb#W4sdnNjb2RlLXJlbW90ZQ%3D%3D?line=0'>1</a>\u001b[0m os\u001b[39m.\u001b[39;49mrmdir(\u001b[39m\"\u001b[39;49m\u001b[39m/mnt/28857F714F734EE8/quan_tran/distortion/Document-Dewarping-with-Control-Points/face_recognition/volumes\u001b[39;49m\u001b[39m\"\u001b[39;49m)\n",
      "\u001b[0;31mOSError\u001b[0m: [Errno 39] Directory not empty: '/mnt/28857F714F734EE8/quan_tran/distortion/Document-Dewarping-with-Control-Points/face_recognition/volumes'"
     ]
    }
   ],
   "source": [
    "os.rmdir(\"/mnt/28857F714F734EE8/quan_tran/distortion/Document-Dewarping-with-Control-Points/face_recognition/volumes\")"
   ]
  },
  {
   "cell_type": "code",
   "execution_count": 3,
   "metadata": {},
   "outputs": [],
   "source": [
    "import shutil"
   ]
  },
  {
   "cell_type": "code",
   "execution_count": 7,
   "metadata": {},
   "outputs": [],
   "source": [
    "folder = \"test/volumes\"\n",
    "for filename in os.listdir(folder):\n",
    "    file_path = os.path.join(folder, filename)\n",
    "    try:\n",
    "        if os.path.isfile(file_path) or os.path.islink(file_path):\n",
    "            os.unlink(file_path)\n",
    "        elif os.path.isdir(file_path):\n",
    "            shutil.rmtree(file_path)\n",
    "    except Exception as e:\n",
    "        print('Failed to delete %s. Reason: %s' % (file_path, e))"
   ]
  },
  {
   "cell_type": "code",
   "execution_count": 11,
   "metadata": {},
   "outputs": [
    {
     "data": {
      "text/plain": [
       "'/mnt/28857F714F734EE8/quan_tran/distortion/Document-Dewarping-with-Control-Points/face_recognition/backup/test'"
      ]
     },
     "execution_count": 11,
     "metadata": {},
     "output_type": "execute_result"
    }
   ],
   "source": [
    "shutil.move(\"/mnt/28857F714F734EE8/quan_tran/distortion/Document-Dewarping-with-Control-Points/face_recognition/test/volumes\", \"/mnt/28857F714F734EE8/quan_tran/distortion/Document-Dewarping-with-Control-Points/face_recognition/backup/test\")"
   ]
  },
  {
   "cell_type": "code",
   "execution_count": 2,
   "metadata": {},
   "outputs": [],
   "source": []
  },
  {
   "cell_type": "code",
   "execution_count": 12,
   "metadata": {},
   "outputs": [],
   "source": [
    "from face_alignment import align\n",
    "from face_alignment import mtcnn\n",
    "from PIL import Image\n",
    "\n"
   ]
  },
  {
   "cell_type": "code",
   "execution_count": 27,
   "metadata": {},
   "outputs": [],
   "source": [
    "def get_aligned_face(image_path, device):\n",
    "    mtcnn_model = mtcnn.MTCNN(device=device, crop_size=(112, 112))\n",
    "    img = Image.open(image_path).convert('RGB')\n",
    "    # find face\n",
    "    try:\n",
    "        bboxes, faces = mtcnn_model.align_multi(img, limit=1)\n",
    "        area = 0 \n",
    "        best_face = None\n",
    "        for face in faces:\n",
    "            width, height = face.size\n",
    "            if width*height > area:\n",
    "                best_face = face\n",
    "                area = width*height\n",
    "    except Exception as e:\n",
    "        best_face = None\n",
    "\n",
    "    return best_face"
   ]
  },
  {
   "cell_type": "code",
   "execution_count": 29,
   "metadata": {},
   "outputs": [
    {
     "data": {
      "image/png": "[encoded data removed]",
      "text/plain": [
       "<PIL.Image.Image image mode=RGB size=112x112 at 0x7F38DB37E580>"
      ]
     },
     "execution_count": 29,
     "metadata": {},
     "output_type": "execute_result"
    }
   ],
   "source": [
    "path_image = \"data/test_images/people1/face1.jpg\"\n",
    "\n",
    "img = get_aligned_face(path_image, \"cpu\")\n",
    "img\n"
   ]
  },
  {
   "cell_type": "code",
   "execution_count": 1,
   "metadata": {},
   "outputs": [],
   "source": [
    "from datetime import datetime"
   ]
  },
  {
   "cell_type": "code",
   "execution_count": 8,
   "metadata": {},
   "outputs": [],
   "source": [
    "date_str1 = '01_12_2023_21_44_06_backup'\n",
    "date_str2 = '01_17_2023_07_30_28_backup'\n"
   ]
  },
  {
   "cell_type": "code",
   "execution_count": 9,
   "metadata": {},
   "outputs": [],
   "source": [
    "date1 = datetime.strptime(date_str1, '%m_%d_%Y_%H_%M_%S_backup')\n",
    "date2 = datetime.strptime(date_str2, '%m_%d_%Y_%H_%M_%S_backup')\n",
    "\n"
   ]
  },
  {
   "cell_type": "code",
   "execution_count": 19,
   "metadata": {},
   "outputs": [],
   "source": [
    "def get_newest_database(root):\n",
    "    for i, name in enumerate(os.listdir(root)):\n",
    "        name = name[:-4]\n",
    "        print(name)\n",
    "        if i == 0:\n",
    "            newest_time = datetime.strptime(name, '%m_%d_%Y_%H_%M_%S_backup')\n",
    "        else:\n",
    "            date = datetime.strptime(name, '%m_%d_%Y_%H_%M_%S_backup')\n",
    "            if date > newest_time:\n",
    "                newest_time = date\n",
    "    return newest_time"
   ]
  },
  {
   "cell_type": "code",
   "execution_count": 21,
   "metadata": {},
   "outputs": [
    {
     "name": "stdout",
     "output_type": "stream",
     "text": [
      "01_12_2023_21_44_06_backup\n",
      "01_12_2023_21_44_44_backup\n",
      "01_12_2023_21_45_16_backup\n",
      "01_12_2023_21_53_03_backup\n",
      "01_12_2023_21_53_57_backup\n",
      "01_12_2023_21_57_01_backup\n",
      "01_12_2023_21_57_54_backup\n",
      "01_13_2023_08_16_03_backup\n",
      "01_13_2023_08_16_46_backup\n",
      "01_17_2023_07_27_40_backup\n",
      "01_17_2023_07_28_39_backup\n",
      "01_17_2023_07_30_28_backup\n"
     ]
    },
    {
     "data": {
      "text/plain": [
       "datetime.datetime(2023, 1, 17, 7, 30, 28)"
      ]
     },
     "execution_count": 21,
     "metadata": {},
     "output_type": "execute_result"
    }
   ],
   "source": [
    "get_newest_database(\"/mnt/28857F714F734EE8/quan_tran/distortion/Document-Dewarping-with-Control-Points/face_recognition/backup\")"
   ]
  },
  {
   "cell_type": "code",
   "execution_count": 1,
   "metadata": {},
   "outputs": [],
   "source": [
    "import requests"
   ]
  },
  {
   "cell_type": "code",
   "execution_count": 2,
   "metadata": {},
   "outputs": [],
   "source": [
    "url = 'http://192.168.192.243:5001/img/get_path_image'"
   ]
  },
  {
   "cell_type": "code",
   "execution_count": 3,
   "metadata": {},
   "outputs": [],
   "source": [
    "params = {\"table_name\":\"test1\"}"
   ]
  },
  {
   "cell_type": "code",
   "execution_count": 7,
   "metadata": {},
   "outputs": [
    {
     "data": {
      "text/plain": [
       "False"
      ]
     },
     "execution_count": 7,
     "metadata": {},
     "output_type": "execute_result"
    }
   ],
   "source": [
    "\n",
    "response = requests.post(url, params=params)\n",
    "\"/data/test_images/people1/img5.jpg\" in response.text"
   ]
  },
  {
   "cell_type": "code",
   "execution_count": 10,
   "metadata": {},
   "outputs": [
    {
     "data": {
      "text/plain": [
       "False"
      ]
     },
     "execution_count": 10,
     "metadata": {},
     "output_type": "execute_result"
    }
   ],
   "source": [
    "a = [\"hai\", \"ba\", \"bon\"]\n",
    "\"haiba\" in a"
   ]
  }
 ],
 "metadata": {
  "kernelspec": {
   "display_name": "quan",
   "language": "python",
   "name": "python3"
  },
  "language_info": {
   "codemirror_mode": {
    "name": "ipython",
    "version": 3
   },
   "file_extension": ".py",
   "mimetype": "text/x-python",
   "name": "python",
   "nbconvert_exporter": "python",
   "pygments_lexer": "ipython3",
   "version": "3.9.7"
  },
  "orig_nbformat": 4,
  "vscode": {
   "interpreter": {
    "hash": "ff96d836af14c3840490289b644027476edc8829c733f9d792c968ae555b4ad6"
   }
  }
 },
 "nbformat": 4,
 "nbformat_minor": 2
}
